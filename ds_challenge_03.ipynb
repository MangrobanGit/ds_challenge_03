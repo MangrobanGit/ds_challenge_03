{
 "cells": [
  {
   "cell_type": "markdown",
   "metadata": {},
   "source": [
    "Good morning! Here's your Wednesday warmup!\n",
    "\n",
    "(1) Log in to GitHub  \n",
    "(2) Create a repo called `ds_challenge_03`  \n",
    "(3) Clone the repo to your computer in an appropriate location  \n",
    "(4) Download the `data.csv` file that I'll send in the next message  \n",
    "(5) Use the `mv` command in the terminal to _move_ `data.csv` into your repo directory.  \n",
    "(6) Create a new notebook.  \n",
    "(7) Write Python code that opens the file and prints out _only_ the GitHub usernames.  \n",
    "(8) Add, commit, and push your code to GitHub.  \n",
    "(9) Paste the link to your repo here.  \n",
    "(10) Take a look at other students' solutions!  "
   ]
  },
  {
   "cell_type": "code",
   "execution_count": 3,
   "metadata": {},
   "outputs": [],
   "source": [
    "import csv"
   ]
  },
  {
   "cell_type": "code",
   "execution_count": 4,
   "metadata": {},
   "outputs": [],
   "source": [
    "with open('data.csv') as f:\n",
    "    reader = csv.reader(f)\n",
    "    data = list(reader)"
   ]
  },
  {
   "cell_type": "code",
   "execution_count": 6,
   "metadata": {},
   "outputs": [
    {
     "data": {
      "text/plain": [
       "list"
      ]
     },
     "execution_count": 6,
     "metadata": {},
     "output_type": "execute_result"
    }
   ],
   "source": [
    "type(data)"
   ]
  },
  {
   "cell_type": "code",
   "execution_count": 21,
   "metadata": {},
   "outputs": [
    {
     "name": "stdout",
     "output_type": "stream",
     "text": [
      "User\n",
      "AlecMorgan\n",
      "as6140\n",
      "ZMBailey\n",
      "rokaandy\n",
      "AnnaLara\n",
      "ConnorAnderson29\n",
      "UpwardTrajectory\n",
      "AlludedCrabb\n",
      "jnawjux\n",
      "kayschulz\n",
      "kevintheduu\n",
      "Laura-ShummonMaass\n",
      "worldyne\n",
      "glmack\n",
      "mandoiwanaga\n",
      "MIAISEMAN\n",
      "nkacoroski\n",
      "Patrickbfuller\n",
      "sherzyang\n",
      "Teosoft7\n",
      "TSGreenwood\n",
      "wut\n"
     ]
    }
   ],
   "source": [
    "for row in data:\n",
    "    if row[1] == 'angrobanGit': #LOL\n",
    "        print('MangrobanGit')\n",
    "    elif row[1] != '':\n",
    "        print( row[1] )\n"
   ]
  }
 ],
 "metadata": {
  "kernelspec": {
   "display_name": "learn-env",
   "language": "python",
   "name": "learn-env"
  },
  "language_info": {
   "codemirror_mode": {
    "name": "ipython",
    "version": 3
   },
   "file_extension": ".py",
   "mimetype": "text/x-python",
   "name": "python",
   "nbconvert_exporter": "python",
   "pygments_lexer": "ipython3",
   "version": "3.6.6"
  }
 },
 "nbformat": 4,
 "nbformat_minor": 2
}
